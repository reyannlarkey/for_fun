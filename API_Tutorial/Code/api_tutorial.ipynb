{
 "cells": [
  {
   "cell_type": "markdown",
   "metadata": {},
   "source": [
    "# <font color = 'blue'> API Tutorial </font>\n",
    "#### https://www.dataquest.io/blog/python-api-tutorial/\n",
    "\n",
    "\n",
    "This is a tutorial I found that introduces APIs to complete beginners, like myself! \n",
    "\n",
    "<img src=\"Images/api-request.svg\" width=\"800\" height=\"400\">\n"
   ]
  },
  {
   "cell_type": "markdown",
   "metadata": {},
   "source": [
    "### Response codes:\n",
    "- 200: Everything went okay, and the result has been returned (if any).\n",
    "- 301: The server is redirecting you to a different endpoint. This can happen when a company switches domain names, or an endpoint name is changed.\n",
    "- 400: The server thinks you made a bad request. This can happen when you don’t send along the right data, among other things.\n",
    "- 401: The server thinks you’re not authenticated. Many APIs require login credentials, so this happens when you don’t send the right credentials to access an API.\n",
    "- 403: The resource you’re trying to access is forbidden: you don’t have the right permissions to see it.\n",
    "- 404: The resource you tried to access wasn’t found on the server.\n",
    "- 503: The server is not ready to handle the request."
   ]
  },
  {
   "cell_type": "code",
   "execution_count": null,
   "metadata": {},
   "outputs": [],
   "source": [
    "import requests\n",
    "import json"
   ]
  },
  {
   "cell_type": "markdown",
   "metadata": {},
   "source": [
    "#### BAD URL--GETS 404 RESPONSE \n",
    "\n",
    "This is an example of a \"GET\" request that returns a 404 message, because the url doesn't exist\n"
   ]
  },
  {
   "cell_type": "code",
   "execution_count": 3,
   "metadata": {},
   "outputs": [
    {
     "name": "stdout",
     "output_type": "stream",
     "text": [
      "404\n"
     ]
    }
   ],
   "source": [
    "response = requests.get(\"http://api.open-notify.org/this-api-doesnt-exist\")\n",
    "print(response.status_code)"
   ]
  },
  {
   "cell_type": "markdown",
   "metadata": {},
   "source": [
    "#### GOOD URL--GETS 200 RESPONSE\n",
    "\n",
    "This is an example that does work!"
   ]
  },
  {
   "cell_type": "code",
   "execution_count": 20,
   "metadata": {},
   "outputs": [
    {
     "name": "stdout",
     "output_type": "stream",
     "text": [
      "200\n"
     ]
    }
   ],
   "source": [
    "response = requests.get(\"http://api.open-notify.org/astros.json\")\n",
    "print(response.status_code)"
   ]
  },
  {
   "cell_type": "markdown",
   "metadata": {},
   "source": [
    "\"JSON (JavaScript Object Notation) is the language of APIs. JSON is a way to encode data structures that ensures that they are easily readable by machines. JSON is the primary format in which data is passed back and forth to APIs, and most API servers will send their responses in JSON format.\""
   ]
  },
  {
   "cell_type": "code",
   "execution_count": null,
   "metadata": {},
   "outputs": [],
   "source": [
    "print(response.json())"
   ]
  },
  {
   "cell_type": "markdown",
   "metadata": {},
   "source": [
    "The json library has two main functions:\n",
    "\n",
    "- json.dumps() — Takes in a Python object, and converts (dumps) it to a string.\n",
    "- json.loads() — Takes a JSON string, and converts (loads) it to a Python object.\n",
    "\n",
    "\n",
    "The dumps() function is particularly useful as we can use it to print a formatted string which makes it easier to understand the JSON output, like in the diagram we saw above:"
   ]
  },
  {
   "cell_type": "code",
   "execution_count": 12,
   "metadata": {},
   "outputs": [],
   "source": [
    "def jprint(obj):\n",
    "    # create a formatted string of the Python JSON object\n",
    "    text = json.dumps(obj, sort_keys=True, indent=4)\n",
    "    print(text)"
   ]
  },
  {
   "cell_type": "code",
   "execution_count": 13,
   "metadata": {},
   "outputs": [
    {
     "name": "stdout",
     "output_type": "stream",
     "text": [
      "{\n",
      "    \"message\": \"success\",\n",
      "    \"number\": 6,\n",
      "    \"people\": [\n",
      "        {\n",
      "            \"craft\": \"ISS\",\n",
      "            \"name\": \"Christina Koch\"\n",
      "        },\n",
      "        {\n",
      "            \"craft\": \"ISS\",\n",
      "            \"name\": \"Alexander Skvortsov\"\n",
      "        },\n",
      "        {\n",
      "            \"craft\": \"ISS\",\n",
      "            \"name\": \"Luca Parmitano\"\n",
      "        },\n",
      "        {\n",
      "            \"craft\": \"ISS\",\n",
      "            \"name\": \"Andrew Morgan\"\n",
      "        },\n",
      "        {\n",
      "            \"craft\": \"ISS\",\n",
      "            \"name\": \"Oleg Skripochka\"\n",
      "        },\n",
      "        {\n",
      "            \"craft\": \"ISS\",\n",
      "            \"name\": \"Jessica Meir\"\n",
      "        }\n",
      "    ]\n",
      "}\n"
     ]
    }
   ],
   "source": [
    "jprint(response.json())"
   ]
  },
  {
   "cell_type": "markdown",
   "metadata": {},
   "source": [
    "## Example of using arguments"
   ]
  },
  {
   "cell_type": "code",
   "execution_count": 14,
   "metadata": {},
   "outputs": [],
   "source": [
    "parameters = {\"lat\":40.71, \"lon\":-74}"
   ]
  },
  {
   "cell_type": "code",
   "execution_count": 15,
   "metadata": {},
   "outputs": [],
   "source": [
    "response = requests.get(\"http://api.open-notify.org/iss-pass.json\", params=parameters)"
   ]
  },
  {
   "cell_type": "code",
   "execution_count": 16,
   "metadata": {},
   "outputs": [
    {
     "name": "stdout",
     "output_type": "stream",
     "text": [
      "{\n",
      "    \"message\": \"success\",\n",
      "    \"request\": {\n",
      "        \"altitude\": 100,\n",
      "        \"datetime\": 1570461436,\n",
      "        \"latitude\": 40.71,\n",
      "        \"longitude\": -74.0,\n",
      "        \"passes\": 5\n",
      "    },\n",
      "    \"response\": [\n",
      "        {\n",
      "            \"duration\": 619,\n",
      "            \"risetime\": 1570466415\n",
      "        },\n",
      "        {\n",
      "            \"duration\": 636,\n",
      "            \"risetime\": 1570472206\n",
      "        },\n",
      "        {\n",
      "            \"duration\": 565,\n",
      "            \"risetime\": 1570478090\n",
      "        },\n",
      "        {\n",
      "            \"duration\": 572,\n",
      "            \"risetime\": 1570483953\n",
      "        },\n",
      "        {\n",
      "            \"duration\": 641,\n",
      "            \"risetime\": 1570489761\n",
      "        }\n",
      "    ]\n",
      "}\n"
     ]
    }
   ],
   "source": [
    "jprint(response.json())"
   ]
  },
  {
   "cell_type": "code",
   "execution_count": 17,
   "metadata": {},
   "outputs": [
    {
     "name": "stdout",
     "output_type": "stream",
     "text": [
      "[\n",
      "    {\n",
      "        \"duration\": 619,\n",
      "        \"risetime\": 1570466415\n",
      "    },\n",
      "    {\n",
      "        \"duration\": 636,\n",
      "        \"risetime\": 1570472206\n",
      "    },\n",
      "    {\n",
      "        \"duration\": 565,\n",
      "        \"risetime\": 1570478090\n",
      "    },\n",
      "    {\n",
      "        \"duration\": 572,\n",
      "        \"risetime\": 1570483953\n",
      "    },\n",
      "    {\n",
      "        \"duration\": 641,\n",
      "        \"risetime\": 1570489761\n",
      "    }\n",
      "]\n"
     ]
    }
   ],
   "source": [
    "pass_times = response.json()['response']\n",
    "jprint(pass_times)"
   ]
  },
  {
   "cell_type": "code",
   "execution_count": 18,
   "metadata": {},
   "outputs": [
    {
     "name": "stdout",
     "output_type": "stream",
     "text": [
      "[1570466415, 1570472206, 1570478090, 1570483953, 1570489761]\n"
     ]
    }
   ],
   "source": [
    "risetimes = []\n",
    "\n",
    "for d in pass_times:\n",
    "    time = d['risetime']\n",
    "    risetimes.append(time)\n",
    "\n",
    "print(risetimes)"
   ]
  },
  {
   "cell_type": "code",
   "execution_count": 19,
   "metadata": {},
   "outputs": [
    {
     "name": "stdout",
     "output_type": "stream",
     "text": [
      "2019-10-07 10:40:15\n",
      "2019-10-07 12:16:46\n",
      "2019-10-07 13:54:50\n",
      "2019-10-07 15:32:33\n",
      "2019-10-07 17:09:21\n"
     ]
    }
   ],
   "source": [
    "from datetime import datetime\n",
    "\n",
    "times = []\n",
    "\n",
    "for rt in risetimes:\n",
    "    time = datetime.fromtimestamp(rt)\n",
    "    times.append(time)\n",
    "    print(time)"
   ]
  },
  {
   "cell_type": "code",
   "execution_count": null,
   "metadata": {},
   "outputs": [],
   "source": []
  }
 ],
 "metadata": {
  "kernelspec": {
   "display_name": "Python 3",
   "language": "python",
   "name": "python3"
  },
  "language_info": {
   "codemirror_mode": {
    "name": "ipython",
    "version": 3
   },
   "file_extension": ".py",
   "mimetype": "text/x-python",
   "name": "python",
   "nbconvert_exporter": "python",
   "pygments_lexer": "ipython3",
   "version": "3.6.7"
  }
 },
 "nbformat": 4,
 "nbformat_minor": 2
}
